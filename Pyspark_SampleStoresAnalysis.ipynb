{
  "nbformat": 4,
  "nbformat_minor": 0,
  "metadata": {
    "colab": {
      "provenance": []
    },
    "kernelspec": {
      "name": "python3",
      "display_name": "Python 3"
    },
    "language_info": {
      "name": "python"
    }
  },
  "cells": [
    {
      "cell_type": "code",
      "source": [
        "!pip install pyspark\n",
        "import pyspark"
      ],
      "metadata": {
        "colab": {
          "base_uri": "https://localhost:8080/"
        },
        "id": "CpdUynVJQ6ad",
        "outputId": "259c5bb6-2ddd-4a3c-f408-031fc06d6857"
      },
      "execution_count": 2,
      "outputs": [
        {
          "output_type": "stream",
          "name": "stdout",
          "text": [
            "Collecting pyspark\n",
            "  Downloading pyspark-3.5.1.tar.gz (317.0 MB)\n",
            "\u001b[2K     \u001b[90m━━━━━━━━━━━━━━━━━━━━━━━━━━━━━━━━━━━━━━━━\u001b[0m \u001b[32m317.0/317.0 MB\u001b[0m \u001b[31m3.7 MB/s\u001b[0m eta \u001b[36m0:00:00\u001b[0m\n",
            "\u001b[?25h  Preparing metadata (setup.py) ... \u001b[?25l\u001b[?25hdone\n",
            "Requirement already satisfied: py4j==0.10.9.7 in /usr/local/lib/python3.10/dist-packages (from pyspark) (0.10.9.7)\n",
            "Building wheels for collected packages: pyspark\n",
            "  Building wheel for pyspark (setup.py) ... \u001b[?25l\u001b[?25hdone\n",
            "  Created wheel for pyspark: filename=pyspark-3.5.1-py2.py3-none-any.whl size=317488491 sha256=e985720f3bfd490ccbefe89558dc21bd84c60dafdf3f9123736c30ad3b5a8554\n",
            "  Stored in directory: /root/.cache/pip/wheels/80/1d/60/2c256ed38dddce2fdd93be545214a63e02fbd8d74fb0b7f3a6\n",
            "Successfully built pyspark\n",
            "Installing collected packages: pyspark\n",
            "Successfully installed pyspark-3.5.1\n"
          ]
        }
      ]
    },
    {
      "cell_type": "code",
      "source": [
        "#Importing necessary libraries\n",
        "from pyspark.sql import SparkSession\n",
        "from pyspark.sql.functions import *\n",
        "from pyspark.sql.types import *\n",
        "\n",
        "sc=SparkSession.builder.appName(\"SuperStore\").getOrCreate()\n"
      ],
      "metadata": {
        "id": "Us3XauX6ROaI"
      },
      "execution_count": 3,
      "outputs": []
    },
    {
      "cell_type": "code",
      "source": [
        "# Read the Excel file using pandas\n",
        "import pandas as pd\n",
        "excel_file_path = '/content/SampleSuperstore-191212-222546.xls'\n",
        "pandas_df = pd.read_excel(excel_file_path)\n",
        "\n",
        "# Convert pandas DataFrame to Spark DataFrame\n",
        "sample_store = sc.createDataFrame(pandas_df)\n",
        "\n",
        "# Show the first 5 rows of the Spark DataFrame\n",
        "sample_store.show(5)"
      ],
      "metadata": {
        "colab": {
          "base_uri": "https://localhost:8080/"
        },
        "id": "dOwh20YUROhl",
        "outputId": "8e9302a3-ca61-46b7-95f2-648bfc0ec142"
      },
      "execution_count": 4,
      "outputs": [
        {
          "output_type": "stream",
          "name": "stdout",
          "text": [
            "+------+--------------+-------------------+-------------------+--------------+-----------+---------------+---------+--------------+---------------+----------+-----------+------+---------------+---------------+------------+--------------------+------------------+--------+--------+-------------------+\n",
            "|Row ID|      Order ID|         Order Date|          Ship Date|     Ship Mode|Customer ID|  Customer Name|  Segment|Country/Region|           City|     State|Postal Code|Region|     Product ID|       Category|Sub-Category|        Product Name|             Sales|Quantity|Discount|             Profit|\n",
            "+------+--------------+-------------------+-------------------+--------------+-----------+---------------+---------+--------------+---------------+----------+-----------+------+---------------+---------------+------------+--------------------+------------------+--------+--------+-------------------+\n",
            "|     1|CA-2018-152156|2018-11-08 00:00:00|2018-11-11 00:00:00|  Second Class|   CG-12520|    Claire Gute| Consumer| United States|      Henderson|  Kentucky|    42420.0| South|FUR-BO-10001798|      Furniture|   Bookcases|Bush Somerset Col...|            261.96|       2|     0.0|            41.9136|\n",
            "|     2|CA-2018-152156|2018-11-08 00:00:00|2018-11-11 00:00:00|  Second Class|   CG-12520|    Claire Gute| Consumer| United States|      Henderson|  Kentucky|    42420.0| South|FUR-CH-10000454|      Furniture|      Chairs|Hon Deluxe Fabric...| 731.9399999999999|       3|     0.0| 219.58199999999997|\n",
            "|     3|CA-2018-138688|2018-06-12 00:00:00|2018-06-16 00:00:00|  Second Class|   DV-13045|Darrin Van Huff|Corporate| United States|    Los Angeles|California|    90036.0|  West|OFF-LA-10000240|Office Supplies|      Labels|Self-Adhesive Add...|             14.62|       2|     0.0| 6.8713999999999995|\n",
            "|     4|US-2017-108966|2017-10-11 00:00:00|2017-10-18 00:00:00|Standard Class|   SO-20335| Sean O'Donnell| Consumer| United States|Fort Lauderdale|   Florida|    33311.0| South|FUR-TA-10000577|      Furniture|      Tables|Bretford CR4500 S...|          957.5775|       5|    0.45|-383.03100000000006|\n",
            "|     5|US-2017-108966|2017-10-11 00:00:00|2017-10-18 00:00:00|Standard Class|   SO-20335| Sean O'Donnell| Consumer| United States|Fort Lauderdale|   Florida|    33311.0| South|OFF-ST-10000760|Office Supplies|     Storage|Eldon Fold 'N Rol...|22.368000000000002|       2|     0.2|  2.516399999999999|\n",
            "+------+--------------+-------------------+-------------------+--------------+-----------+---------------+---------+--------------+---------------+----------+-----------+------+---------------+---------------+------------+--------------------+------------------+--------+--------+-------------------+\n",
            "only showing top 5 rows\n",
            "\n"
          ]
        }
      ]
    },
    {
      "cell_type": "markdown",
      "source": [
        "<h1>Visual assessment<h1/>\n"
      ],
      "metadata": {
        "id": "IiTtaEYFUKEU"
      }
    },
    {
      "cell_type": "markdown",
      "source": [
        "1. Checking datatypes\n",
        "2. Counting number of columns and rows\n",
        "3. Summary statistics of numerical columns\n",
        "4. Checking nulls\n",
        "5. Checking most recent order date\n",
        "6. Checking distinct types of ship modes, categories, segments, regions and their counts"
      ],
      "metadata": {
        "id": "xP3KFwNqTZ1b"
      }
    },
    {
      "cell_type": "code",
      "source": [
        "#To check the datatypes\n",
        "sample_store.printSchema()"
      ],
      "metadata": {
        "colab": {
          "base_uri": "https://localhost:8080/"
        },
        "id": "ff1CN6NXROlo",
        "outputId": "be0481ce-b0ae-401f-91ce-41fede5af3c4"
      },
      "execution_count": 5,
      "outputs": [
        {
          "output_type": "stream",
          "name": "stdout",
          "text": [
            "root\n",
            " |-- Row ID: long (nullable = true)\n",
            " |-- Order ID: string (nullable = true)\n",
            " |-- Order Date: timestamp (nullable = true)\n",
            " |-- Ship Date: timestamp (nullable = true)\n",
            " |-- Ship Mode: string (nullable = true)\n",
            " |-- Customer ID: string (nullable = true)\n",
            " |-- Customer Name: string (nullable = true)\n",
            " |-- Segment: string (nullable = true)\n",
            " |-- Country/Region: string (nullable = true)\n",
            " |-- City: string (nullable = true)\n",
            " |-- State: string (nullable = true)\n",
            " |-- Postal Code: double (nullable = true)\n",
            " |-- Region: string (nullable = true)\n",
            " |-- Product ID: string (nullable = true)\n",
            " |-- Category: string (nullable = true)\n",
            " |-- Sub-Category: string (nullable = true)\n",
            " |-- Product Name: string (nullable = true)\n",
            " |-- Sales: double (nullable = true)\n",
            " |-- Quantity: long (nullable = true)\n",
            " |-- Discount: double (nullable = true)\n",
            " |-- Profit: double (nullable = true)\n",
            "\n"
          ]
        }
      ]
    },
    {
      "cell_type": "code",
      "source": [
        "#Counting number of columns and rows\n",
        "cols = len(sample_store.columns)\n",
        "rows = sample_store.count()\n",
        "\n",
        "print(f\"Number of columns: {cols}\")\n",
        "print(f\"Number of rows: {rows}\")"
      ],
      "metadata": {
        "colab": {
          "base_uri": "https://localhost:8080/"
        },
        "id": "kg55ri4gROpM",
        "outputId": "e898c7c2-9882-4dc9-dce3-54a3a437df1b"
      },
      "execution_count": 6,
      "outputs": [
        {
          "output_type": "stream",
          "name": "stdout",
          "text": [
            "Number of columns: 21\n",
            "Number of rows: 9994\n"
          ]
        }
      ]
    },
    {
      "cell_type": "code",
      "source": [
        "#To see the summary statistics of numerical columns\n",
        "numerical_columns = ['Sales','Quantity','Discount','Profit']\n",
        "sample_store.select(numerical_columns).describe().show()"
      ],
      "metadata": {
        "colab": {
          "base_uri": "https://localhost:8080/"
        },
        "id": "zL9KB-lAYVNk",
        "outputId": "3b6488e6-4ad7-489b-9e5f-64dabdb5b532"
      },
      "execution_count": 7,
      "outputs": [
        {
          "output_type": "stream",
          "name": "stdout",
          "text": [
            "+-------+-------------------+------------------+-------------------+------------------+\n",
            "|summary|              Sales|          Quantity|           Discount|            Profit|\n",
            "+-------+-------------------+------------------+-------------------+------------------+\n",
            "|  count|               9994|              9994|               9994|              9994|\n",
            "|   mean| 229.85800083049725| 3.789573744246548|0.15620272163298335|28.656896307784628|\n",
            "| stddev|   623.245100508681|2.2251096911414017|0.20645196782571595|234.26010769095723|\n",
            "|    min|0.44399999999999995|                 1|                0.0|-6599.978000000001|\n",
            "|    max|           22638.48|                14|                0.8| 8399.975999999999|\n",
            "+-------+-------------------+------------------+-------------------+------------------+\n",
            "\n"
          ]
        }
      ]
    },
    {
      "cell_type": "code",
      "source": [
        "#Checking for nulls\n",
        "sample_store.filter(col(\"Order ID\").isNull()).show()\n"
      ],
      "metadata": {
        "colab": {
          "base_uri": "https://localhost:8080/"
        },
        "id": "mzx6no0NcERw",
        "outputId": "be7dced8-7d8a-4195-f9ca-59af5a8a9a66"
      },
      "execution_count": 8,
      "outputs": [
        {
          "output_type": "stream",
          "name": "stdout",
          "text": [
            "+------+--------+----------+---------+---------+-----------+-------------+-------+--------------+----+-----+-----------+------+----------+--------+------------+------------+-----+--------+--------+------+\n",
            "|Row ID|Order ID|Order Date|Ship Date|Ship Mode|Customer ID|Customer Name|Segment|Country/Region|City|State|Postal Code|Region|Product ID|Category|Sub-Category|Product Name|Sales|Quantity|Discount|Profit|\n",
            "+------+--------+----------+---------+---------+-----------+-------------+-------+--------------+----+-----+-----------+------+----------+--------+------------+------------+-----+--------+--------+------+\n",
            "+------+--------+----------+---------+---------+-----------+-------------+-------+--------------+----+-----+-----------+------+----------+--------+------------+------------+-----+--------+--------+------+\n",
            "\n"
          ]
        }
      ]
    },
    {
      "cell_type": "code",
      "source": [
        "#Checking the most recent order date\n",
        "sample_store.select('Order Date').orderBy(col('Order Date').desc()).show(1)\n"
      ],
      "metadata": {
        "colab": {
          "base_uri": "https://localhost:8080/"
        },
        "id": "7WcoVJ6qZeyj",
        "outputId": "c3ef8cc9-4db0-4ebf-baa4-7e51c65c052c"
      },
      "execution_count": 9,
      "outputs": [
        {
          "output_type": "stream",
          "name": "stdout",
          "text": [
            "+-------------------+\n",
            "|         Order Date|\n",
            "+-------------------+\n",
            "|2019-12-30 00:00:00|\n",
            "+-------------------+\n",
            "only showing top 1 row\n",
            "\n"
          ]
        }
      ]
    },
    {
      "cell_type": "code",
      "source": [
        "#Checking distinct types of ship modes and their counts\n",
        "sample_store.groupBy('Ship Mode').count().show()"
      ],
      "metadata": {
        "colab": {
          "base_uri": "https://localhost:8080/"
        },
        "id": "xlxYzFCbgDyk",
        "outputId": "ef72ed60-39fc-41ef-d1dd-0f89ed3f6887"
      },
      "execution_count": 11,
      "outputs": [
        {
          "output_type": "stream",
          "name": "stdout",
          "text": [
            "+--------------+-----+\n",
            "|     Ship Mode|count|\n",
            "+--------------+-----+\n",
            "|   First Class| 1538|\n",
            "|      Same Day|  543|\n",
            "|  Second Class| 1945|\n",
            "|Standard Class| 5968|\n",
            "+--------------+-----+\n",
            "\n"
          ]
        }
      ]
    },
    {
      "cell_type": "code",
      "source": [
        "#Checking distinct Segments and their counts\n",
        "\n",
        "sample_store.groupBy('Segment').count().show()"
      ],
      "metadata": {
        "colab": {
          "base_uri": "https://localhost:8080/"
        },
        "id": "A_yQ23nZgD1l",
        "outputId": "754515a9-e009-4a79-e701-2b7f76d44cb7"
      },
      "execution_count": 12,
      "outputs": [
        {
          "output_type": "stream",
          "name": "stdout",
          "text": [
            "+-----------+-----+\n",
            "|    Segment|count|\n",
            "+-----------+-----+\n",
            "|   Consumer| 5191|\n",
            "|Home Office| 1783|\n",
            "|  Corporate| 3020|\n",
            "+-----------+-----+\n",
            "\n"
          ]
        }
      ]
    },
    {
      "cell_type": "code",
      "source": [
        "#Checking distinct region and their counts\n",
        "sample_store.groupBy('Region').count().show()"
      ],
      "metadata": {
        "colab": {
          "base_uri": "https://localhost:8080/"
        },
        "id": "DfRJA6j3gD6l",
        "outputId": "9f11af26-45a3-44f5-9214-9b4bc6294372"
      },
      "execution_count": 13,
      "outputs": [
        {
          "output_type": "stream",
          "name": "stdout",
          "text": [
            "+-------+-----+\n",
            "| Region|count|\n",
            "+-------+-----+\n",
            "|  South| 1620|\n",
            "|Central| 2323|\n",
            "|   East| 2848|\n",
            "|   West| 3203|\n",
            "+-------+-----+\n",
            "\n"
          ]
        }
      ]
    },
    {
      "cell_type": "code",
      "source": [
        "#Checking distinct category and their counts\n",
        "sample_store.groupBy('Category').count().show()"
      ],
      "metadata": {
        "colab": {
          "base_uri": "https://localhost:8080/"
        },
        "id": "rfaszaZWgD-G",
        "outputId": "b7063881-a6a5-4793-9e5c-c70d58a66439"
      },
      "execution_count": 14,
      "outputs": [
        {
          "output_type": "stream",
          "name": "stdout",
          "text": [
            "+---------------+-----+\n",
            "|       Category|count|\n",
            "+---------------+-----+\n",
            "|Office Supplies| 6026|\n",
            "|      Furniture| 2121|\n",
            "|     Technology| 1847|\n",
            "+---------------+-----+\n",
            "\n"
          ]
        }
      ]
    },
    {
      "cell_type": "markdown",
      "source": [
        "<h1>Data Exploration<h1/>"
      ],
      "metadata": {
        "id": "wuL7KPXKjGi_"
      }
    },
    {
      "cell_type": "markdown",
      "source": [
        "1. Total sales by region\n",
        "2. Top customers by sales\n",
        "3. Profit margin by product\n",
        "4. Best selling products(terms of sales)"
      ],
      "metadata": {
        "id": "vnFBUqyOTMFc"
      }
    },
    {
      "cell_type": "code",
      "source": [
        "#Total sales by region\n",
        "sample_store.select('Region','Sales').groupBy('Region').sum().show()"
      ],
      "metadata": {
        "colab": {
          "base_uri": "https://localhost:8080/"
        },
        "id": "QGmZLDP4gECL",
        "outputId": "ad035ac8-550c-445a-f410-453c29694cfc"
      },
      "execution_count": 15,
      "outputs": [
        {
          "output_type": "stream",
          "name": "stdout",
          "text": [
            "+-------+-----------------+\n",
            "| Region|       sum(Sales)|\n",
            "+-------+-----------------+\n",
            "|  South|391721.9050000004|\n",
            "|Central|501239.8907999996|\n",
            "|   East|678781.2400000002|\n",
            "|   West|725457.8245000013|\n",
            "+-------+-----------------+\n",
            "\n"
          ]
        }
      ]
    },
    {
      "cell_type": "code",
      "source": [
        "#Top customers by sales\n",
        "sample_store.select('Customer Name', 'Sales') \\\n",
        "                             .groupBy('Customer Name') \\\n",
        "                             .agg(sum('Sales').alias('Total Sales')) \\\n",
        "                             .orderBy(desc('Total Sales')) \\\n",
        "                             .show(10)"
      ],
      "metadata": {
        "colab": {
          "base_uri": "https://localhost:8080/"
        },
        "id": "wouo3mGPgEGq",
        "outputId": "6279d5c3-a6d0-49d7-ed7f-fabe521bab91"
      },
      "execution_count": 16,
      "outputs": [
        {
          "output_type": "stream",
          "name": "stdout",
          "text": [
            "+------------------+------------------+\n",
            "|     Customer Name|       Total Sales|\n",
            "+------------------+------------------+\n",
            "|       Sean Miller|          25043.05|\n",
            "|      Tamara Chand|19052.217999999993|\n",
            "|      Raymond Buch|         15117.339|\n",
            "|      Tom Ashbrook|          14595.62|\n",
            "|     Adrian Barton|14473.570999999998|\n",
            "|      Ken Lonsdale|         14175.229|\n",
            "|      Sanjit Chand|14142.333999999999|\n",
            "|      Hunter Lopez|12873.297999999999|\n",
            "|      Sanjit Engle|12209.438000000002|\n",
            "|Christopher Conant|12129.071999999998|\n",
            "+------------------+------------------+\n",
            "only showing top 10 rows\n",
            "\n"
          ]
        }
      ]
    },
    {
      "cell_type": "code",
      "source": [
        "#Profit margins by product\n",
        "\n",
        "# Calculating revenue considering discounts (sales - discount)\n",
        "sample_store =sample_store.withColumn(\"Revenue\", col(\"Sales\") - col(\"Discount\"))\n",
        "\n",
        "# Calculating cost price per unit (profit / quantity)\n",
        "sample_store = sample_store.withColumn(\"Cost_Per_Unit\", col(\"Profit\") / col(\"Quantity\"))\n",
        "\n",
        "# Calculating profit margin percentage (profit / revenue * 100)\n",
        "sample_store = sample_store.withColumn(\"Profit_Margin_Percent\", (col(\"Profit\") / col(\"Revenue\")) * 100.0)\n",
        "\n",
        "\n",
        "# Filter top 10 products by Profit\n",
        "top_profit = sample_store.select('Product Name','Profit','Profit_Margin_Percent').orderBy(col(\"Profit\").desc()).limit(10)\n",
        "\n",
        "# Show the results\n",
        "top_profit.show(truncate = False)"
      ],
      "metadata": {
        "colab": {
          "base_uri": "https://localhost:8080/"
        },
        "id": "O0kEYlNQpBZC",
        "outputId": "b3bb8d00-789a-42a8-d6b8-a4e4b9c6d527"
      },
      "execution_count": 17,
      "outputs": [
        {
          "output_type": "stream",
          "name": "stdout",
          "text": [
            "+---------------------------------------------------------------------------+------------------+---------------------+\n",
            "|Product Name                                                               |Profit            |Profit_Margin_Percent|\n",
            "+---------------------------------------------------------------------------+------------------+---------------------+\n",
            "|Canon imageCLASS 2200 Advanced Copier                                      |8399.975999999999 |48.0                 |\n",
            "|Canon imageCLASS 2200 Advanced Copier                                      |6719.980799999999 |48.0                 |\n",
            "|Canon imageCLASS 2200 Advanced Copier                                      |5039.9856         |48.00000000000001    |\n",
            "|GBC Ibimaster 500 Manual ProClick Binding System                           |4946.37           |50.0                 |\n",
            "|Ibico EPK-21 Electric Binding System                                       |4630.4755000000005|49.0                 |\n",
            "|Canon imageCLASS 2200 Advanced Copier                                      |3919.988799999999 |35.00062501294669    |\n",
            "|Fellowes PB500 Electric Punch Plastic Comb Binding Machine with Manual Bind|3177.475          |50.0                 |\n",
            "|HP Designjet T520 Inkjet Large Format Printer - 24\" Color                  |2799.9839999999995|31.99999999999999    |\n",
            "|Hewlett Packard LaserJet 3310 Copier                                       |2591.9568         |48.0                 |\n",
            "|GBC DocuBind P400 Electric Binding System                                  |2504.2216         |46.0                 |\n",
            "+---------------------------------------------------------------------------+------------------+---------------------+\n",
            "\n"
          ]
        }
      ]
    },
    {
      "cell_type": "code",
      "source": [
        "#Best selling products\n",
        "sample_store.select('Product Name','Sales')\\\n",
        "            .groupBy('Product Name')\\\n",
        "            .agg(sum('Sales').alias('Total sales'))\\\n",
        "            .orderBy(desc('Total sales'))\\\n",
        "            .show(10,truncate = False)"
      ],
      "metadata": {
        "id": "NEs9kwJ9rBCC",
        "colab": {
          "base_uri": "https://localhost:8080/"
        },
        "outputId": "6bc4a78f-1b73-4113-ca3e-0f60704f488e"
      },
      "execution_count": 19,
      "outputs": [
        {
          "output_type": "stream",
          "name": "stdout",
          "text": [
            "+---------------------------------------------------------------------------+------------------+\n",
            "|Product Name                                                               |Total sales       |\n",
            "+---------------------------------------------------------------------------+------------------+\n",
            "|Canon imageCLASS 2200 Advanced Copier                                      |61599.824         |\n",
            "|Fellowes PB500 Electric Punch Plastic Comb Binding Machine with Manual Bind|27453.384         |\n",
            "|Cisco TelePresence System EX90 Videoconferencing Unit                      |22638.48          |\n",
            "|HON 5400 Series Task Chairs for Big and Tall                               |21870.576         |\n",
            "|GBC DocuBind TL300 Electric Binding System                                 |19823.479         |\n",
            "|GBC Ibimaster 500 Manual ProClick Binding System                           |19024.5           |\n",
            "|Hewlett Packard LaserJet 3310 Copier                                       |18839.686         |\n",
            "|HP Designjet T520 Inkjet Large Format Printer - 24\" Color                  |18374.895         |\n",
            "|GBC DocuBind P400 Electric Binding System                                  |17965.068         |\n",
            "|High Speed Automatic Electric Letter Opener                                |17030.311999999998|\n",
            "+---------------------------------------------------------------------------+------------------+\n",
            "only showing top 10 rows\n",
            "\n"
          ]
        }
      ]
    },
    {
      "cell_type": "code",
      "source": [],
      "metadata": {
        "id": "JNVZeF67rBTo"
      },
      "execution_count": null,
      "outputs": []
    }
  ]
}